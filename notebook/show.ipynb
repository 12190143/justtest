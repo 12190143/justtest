{
 "cells": [
  {
   "cell_type": "code",
   "execution_count": null,
   "metadata": {
    "collapsed": false
   },
   "outputs": [],
   "source": [
    "__author__ = 'Roger'\n",
    "\n",
    "import numpy as np\n",
    "import pandas as pd\n",
    "import matplotlib.pyplot as plt\n",
    "%matplotlib inline\n",
    "\n",
    "## analysis the image for data\n",
    "## analysis\n",
    "shop = np.loadtxt('../data/shopid_day_num.txt', delimiter=',')\n",
    "result = np.loadtxt('../results/testroger.csv',delimiter=',')\n",
    "predict1 = np.loadtxt('../results/testroger.csv', delimiter=',')"
   ]
  },
  {
   "cell_type": "code",
   "execution_count": null,
   "metadata": {
    "collapsed": false
   },
   "outputs": [],
   "source": [
    "## plot 21days and result\n",
    "\n",
    "#define the month length\n",
    "month_len = 15\n",
    "# define the day length\n",
    "day_len = month_len * 4\n",
    "\n",
    "# count the weeks mean and month mean\n",
    "shop_21 = shop[:,-7 * day_len:]\n",
    "predict_14 = predict1[:,1:]\n",
    "week_mean = np.zeros([2000,day_len + 2])\n",
    "month_mean = np.zeros([2000,month_len])\n",
    "# print(predict)\n",
    "for i in range(day_len):\n",
    "    week_mean[:,i] = np.mean(shop_21[:,7*i: 7 * (i+1)], axis=1)\n",
    "\n",
    "for i in range(month_len):\n",
    "    month_mean[:,i] = np.mean(shop_21[:, 28 * i: 28 * (i + 1)], axis=1)\n",
    "    \n",
    "week_mean[:,day_len] = np.mean(predict_14[:,0:7],axis=1)\n",
    "week_mean[:,day_len + 1] = np.mean(predict_14[:,7:14],axis=1)\n",
    "# print(avg_mean)\n",
    "x = 0\n",
    "# output the image with specific shops and analysis the results\n",
    "for i in [809]:\n",
    "#     i = i - 1\n",
    "    x += 1\n",
    "#     print(avg_mean[i])\n",
    "    y = range(0,7 * day_len)\n",
    "    plt.title(i + 1)\n",
    "    plt.plot(y, shop_21[i], color='blue')\n",
    "    y = range(day_len * 7, (day_len + 2) * 7)\n",
    "#     print(y.__len__(), predict_14[i].shape)\n",
    "    plt.plot(y, predict_14[i], color='red')\n",
    "    y = range((day_len + 2) * 7)\n",
    "    for j in range(day_len):\n",
    "        plt.plot(y[7 * j: 7 * (j + 1)],np.tile(week_mean[i,j],7), color = 'green')\n",
    "    for j in range(month_len):\n",
    "        plt.plot(y[28 * j: 28 * (j + 1)],np.tile(month_mean[i,j],28), color = 'black')\n",
    "#     plt.show()\n",
    "#     plt.savefig('/home/roger/Documents/ijcai_tianchi/als/all/{0}'.format(x),dpi=300)\n",
    "#     plt.close()\n",
    "    plt.show()"
   ]
  },
  {
   "cell_type": "code",
   "execution_count": null,
   "metadata": {
    "collapsed": false
   },
   "outputs": [],
   "source": [
    "# print the week tend and analysis\n",
    "weekbegin = 3\n",
    "week_mean = np.zeros([2000, 43])\n",
    "idxw = 0 \n",
    "\n",
    "for i in range(weekbegin,304,7): \n",
    "    week_mean[:, idxw] = np.mean(shop[:,i:i+7], axis=1) \n",
    "    for j in range(2000): \n",
    "        if week_mean[j, idxw] == 0: \n",
    "            week_mean[j, idxw] = 1 \n",
    "    idxw += 1\n",
    "week_tend = np.zeros([2000,43]) \n",
    "\n",
    "for i in range(1, week_mean.shape[1]): \n",
    "    week_tend[:, i - 1] = week_mean[:, i - 1] / week_mean[:, i]\n",
    "week_tend[:,-1] = week_mean[:,-1] / np.mean(result[:,1:8]) \n",
    "\n",
    "for i in range(20): \n",
    "    print(week_tend[i,:])\n",
    "    plt.title(i+1)\n",
    "    plt.plot(range(43), week_tend[i,:], color= 'red') \n",
    "    for j in range(43): \n",
    "        if j % 4 != 0:\n",
    "            plt.plot([j,j],[0, np.max(week_tend[i])], color='blue')\n",
    "#         else:\n",
    "#             plt.plot([j,j], [0, np.max(week_tend[i])], color='red')\n",
    "    plt.plot(range(43), [1] * 43, color= 'green')\n",
    "#     plt.savefig('/home/roger/Documents/ijcai_tianchi/als/testweek/{0}'.format(i),dpi=300)\n",
    "    plt.show()"
   ]
  },
  {
   "cell_type": "code",
   "execution_count": null,
   "metadata": {
    "collapsed": false
   },
   "outputs": [],
   "source": [
    "# plot the rate about last two weeks and first two weeks\n",
    "test = np.loadtxt('../als/week/last_first_rate.csv', delimiter=',')\n",
    "\n",
    "for i in range(200):\n",
    "    plt.plot(range(9), test[i], color='blue')\n",
    "    plt.show()"
   ]
  }
 ],
 "metadata": {
  "kernelspec": {
   "display_name": "Python 3",
   "language": "python",
   "name": "python3"
  },
  "language_info": {
   "codemirror_mode": {
    "name": "ipython",
    "version": 3
   },
   "file_extension": ".py",
   "mimetype": "text/x-python",
   "name": "python",
   "nbconvert_exporter": "python",
   "pygments_lexer": "ipython3",
   "version": "3.5.1"
  }
 },
 "nbformat": 4,
 "nbformat_minor": 0
}
