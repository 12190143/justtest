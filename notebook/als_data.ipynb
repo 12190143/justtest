{
 "cells": [
  {
   "cell_type": "code",
   "execution_count": null,
   "metadata": {
    "collapsed": true
   },
   "outputs": [],
   "source": [
    "__author__ = 'Roger'\n",
    "\n",
    "import numpy as np\n",
    "import matplotlib.pylab as plt\n",
    "%matplotlib inline\n",
    "\n",
    "## draw mean and median picture to analysis"
   ]
  },
  {
   "cell_type": "code",
   "execution_count": null,
   "metadata": {
    "collapsed": false
   },
   "outputs": [],
   "source": [
    "res = np.loadtxt('../data/all_mon_week3_mean_med_var_std.csv', delimiter=',')\n",
    "res = res[:,1:]\n",
    "\n",
    "# print mean\n",
    "for i in range(2000):\n",
    "    print(res[i])\n",
    "    fig = plt.figure()\n",
    "    ax1 = fig.add_subplot(4,1,1)\n",
    "    ax2 = fig.add_subplot(4,1,2)\n",
    "    ax3 = fig.add_subplot(4,1,3)\n",
    "    ax4 = fig.add_subplot(4,1,4)\n",
    "    x = range(3)\n",
    "    ax1.set_yticks(x)\n",
    "    ax2.set_yticks(x)\n",
    "    ax3.set_yticks(x)\n",
    "    ax4.set_yticks(x)\n",
    "    ax1.set_yticklabels(['3week', '2week', '1week'])\n",
    "    ax2.set_yticklabels(['3week', '2week', '1week'])\n",
    "    ax3.set_yticklabels(['3week', '2week', '1week'])\n",
    "    ax4.set_yticklabels(['3week', '2week', '1week'])\n",
    "\n",
    "    ax1.barh(x, res[i,0:3])\n",
    "    ax2.barh(x, res[i,3:6])\n",
    "    ax3.barh(x, res[i,6:9])\n",
    "    ax4.barh(x, res[i,9:12])\n",
    "    \n",
    "    ax1.set_title('mean')\n",
    "    ax2.set_title('median')\n",
    "    ax3.set_title('var')\n",
    "    ax4.set_title('std')\n",
    "    \n",
    "    plt.savefig('/home/roger/Documents/ijcai_tianchi/als/flg1/{0}.jpg'.format(i))"
   ]
  },
  {
   "cell_type": "code",
   "execution_count": null,
   "metadata": {
    "collapsed": false
   },
   "outputs": [],
   "source": [
    "# print mean\n",
    "for i in range(3):\n",
    "    print(res[i])\n",
    "    fig, ax = plt.subplots()\n",
    "    x = range(12)\n",
    "    ax.set_yticks(x)\n",
    "    ax.set_yticklabels(['a_mean','m_mean','w_mean','a_median','m_median','w_median',\n",
    "                        'a_var','m_var','w_var','a_std','m_std','w_std'])\n",
    "    ax.barh(x,res[i])\n",
    "    \n",
    "    plt.show()"
   ]
  },
  {
   "cell_type": "code",
   "execution_count": null,
   "metadata": {
    "collapsed": false
   },
   "outputs": [],
   "source": [
    "# simple test and study for draw picture\n",
    "plt.rcdefaults()\n",
    "fig, ax = plt.subplots()\n",
    "\n",
    "people = ('Tom', 'Dick', 'Harry', 'Slim', 'Jim')\n",
    "y_pos = np.arange(len(people))\n",
    "performance = 3 + 10 * np.random.rand(len(people))\n",
    "error = np.random.rand(len(people))\n",
    "\n",
    "ax.barh(y_pos, performance, xerr=error, align='center',\n",
    "        color='green', ecolor='black')\n",
    "ax.set_yticks(y_pos)\n",
    "ax.set_yticklabels(people)\n",
    "ax.invert_yaxis()  # labels read top-to-bottom\n",
    "ax.set_xlabel('Performance')\n",
    "ax.set_title('How fast do you want to go today?')\n",
    "\n",
    "plt.show()"
   ]
  }
 ],
 "metadata": {
  "kernelspec": {
   "display_name": "Python 3",
   "language": "python",
   "name": "python3"
  },
  "language_info": {
   "codemirror_mode": {
    "name": "ipython",
    "version": 3
   },
   "file_extension": ".py",
   "mimetype": "text/x-python",
   "name": "python",
   "nbconvert_exporter": "python",
   "pygments_lexer": "ipython3",
   "version": "3.5.1"
  }
 },
 "nbformat": 4,
 "nbformat_minor": 0
}
